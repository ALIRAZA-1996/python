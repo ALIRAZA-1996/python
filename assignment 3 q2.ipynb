{
 "cells": [
  {
   "cell_type": "code",
   "execution_count": 2,
   "metadata": {},
   "outputs": [
    {
     "name": "stdout",
     "output_type": "stream",
     "text": [
      "Enter sentence with number: 10 character\n",
      "The original string : 10 character\n",
      "The numbers list is : [10]\n"
     ]
    }
   ],
   "source": [
    "\n",
    "test_string = input(\"Enter sentence with number: \")\n",
    "print(\"The original string : \" + test_string) \n",
    "res = [int(i) for i in test_string.split() if i.isdigit()] \n",
    "print(\"The numbers list is : \" + str(res))\n"
   ]
  },
  {
   "cell_type": "code",
   "execution_count": null,
   "metadata": {},
   "outputs": [],
   "source": []
  }
 ],
 "metadata": {
  "kernelspec": {
   "display_name": "Python 3",
   "language": "python",
   "name": "python3"
  },
  "language_info": {
   "codemirror_mode": {
    "name": "ipython",
    "version": 3
   },
   "file_extension": ".py",
   "mimetype": "text/x-python",
   "name": "python",
   "nbconvert_exporter": "python",
   "pygments_lexer": "ipython3",
   "version": "3.7.4"
  }
 },
 "nbformat": 4,
 "nbformat_minor": 2
}
