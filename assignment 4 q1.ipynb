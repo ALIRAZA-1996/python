{
 "cells": [
  {
   "cell_type": "code",
   "execution_count": 2,
   "metadata": {},
   "outputs": [
    {
     "name": "stdout",
     "output_type": "stream",
     "text": [
      "Ali\n",
      "Raza\n",
      "24\n",
      "Karachi\n",
      "Matric\n",
      "after update Qualification  Bscs\n",
      "{'first_name': 'Ali', 'last_name,': 'Raza', 'age': '24', 'city': 'Karachi'}\n"
     ]
    }
   ],
   "source": [
    "\n",
    "obj = {\n",
    "    \"first_name\" : \"Ali\",\n",
    "    \"last_name,\" : \"Raza\",\n",
    "    \"age\":\"24\",\n",
    "    \"city\" : \"Karachi\"\n",
    "}\n",
    "\n",
    "for i in obj.values():\n",
    "    print(i)\n",
    "\n",
    "obj.update({\"qualification\":\"Matric\"})\n",
    "\n",
    "print(obj[\"qualification\"])\n",
    "\n",
    "obj[\"qualification\"] = \"Bscs\"\n",
    "print(\"after update Qualification \",obj[\"qualification\"])\n",
    "\n",
    "del obj[\"qualification\"]\n",
    "\n",
    "print(obj)"
   ]
  },
  {
   "cell_type": "code",
   "execution_count": null,
   "metadata": {},
   "outputs": [],
   "source": []
  },
  {
   "cell_type": "code",
   "execution_count": null,
   "metadata": {},
   "outputs": [],
   "source": []
  },
  {
   "cell_type": "code",
   "execution_count": null,
   "metadata": {},
   "outputs": [],
   "source": []
  }
 ],
 "metadata": {
  "kernelspec": {
   "display_name": "Python 3",
   "language": "python",
   "name": "python3"
  },
  "language_info": {
   "codemirror_mode": {
    "name": "ipython",
    "version": 3
   },
   "file_extension": ".py",
   "mimetype": "text/x-python",
   "name": "python",
   "nbconvert_exporter": "python",
   "pygments_lexer": "ipython3",
   "version": "3.7.4"
  }
 },
 "nbformat": 4,
 "nbformat_minor": 2
}
