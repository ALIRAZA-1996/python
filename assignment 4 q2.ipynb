{
 "cells": [
  {
   "cell_type": "code",
   "execution_count": 3,
   "metadata": {},
   "outputs": [
    {
     "name": "stdout",
     "output_type": "stream",
     "text": [
      "Name of city is  karachi\n",
      "Country Name is :  Pakistan\n",
      "Approximate population is :  15 million\n",
      "Fact of the city is :  Karachi is the Capital of the Pakistani province od Sindh it is the most populous city in Pakistan and fifth-most-populous city proper in the world\n",
      "===================================================================================================================\n",
      "Name of city is  tokyo\n",
      "Country Name is :  Japan\n",
      "Approximate population is :  14 million approx\n",
      "Fact of the city is :  Tokyo is a city & capital of Japan known for luxury shopping, ultramodren architecture and elecctronic and cars markit of the world and  a lively nightlife scene\n",
      "===================================================================================================================\n",
      "Name of city is  beijing\n",
      "Country Name is :  China\n",
      "Approximate population is :  21 million approx\n",
      "Fact of the city is :  Beijing, China's capital, is a major industerial hub of china  and a global center for import and export, its is unique and old civilatzion  and culture\n",
      "===================================================================================================================\n"
     ]
    }
   ],
   "source": [
    "city ={\n",
    "    \"karachi\" : {\n",
    "        \"country\": \"Pakistan\",\n",
    "        \"approximate_population\":\"15 million\",\n",
    "        \"fact\":\"Karachi is the Capital of the Pakistani province od Sindh it is the most populous city in Pakistan and fifth-most-populous city proper in the world\"\n",
    "    },\n",
    "    \"tokyo\" : {\n",
    "        \"country\": \"Japan\",\n",
    "        \"approximate_population\":\"14 million approx\",\n",
    "        \"fact\":\"Tokyo is a city & capital of Japan known for luxury shopping, ultramodren architecture and elecctronic and cars markit of the world and  a lively nightlife scene\"\n",
    "    },\n",
    "    \"beijing\" : {\n",
    "        \"country\": \"China\",\n",
    "        \"approximate_population\":\"21 million approx\",\n",
    "        \"fact\":\"Beijing, China's capital, is a major industerial hub of china  and a global center for import and export, its is unique and old civilatzion  and culture\"\n",
    "    }\n",
    "}\n",
    "    \n",
    "for i in city.keys():\n",
    "    print(\"Name of city is \", i)\n",
    "    print(\"Country Name is : \" , city[i][\"country\"])\n",
    "    print(\"Approximate population is : \" , city[i][\"approximate_population\"])\n",
    "    print(\"Fact of the city is : \" , city[i][\"fact\"])\n",
    "    print(\"===================================================================================================================\")"
   ]
  },
  {
   "cell_type": "code",
   "execution_count": null,
   "metadata": {},
   "outputs": [],
   "source": []
  }
 ],
 "metadata": {
  "kernelspec": {
   "display_name": "Python 3",
   "language": "python",
   "name": "python3"
  },
  "language_info": {
   "codemirror_mode": {
    "name": "ipython",
    "version": 3
   },
   "file_extension": ".py",
   "mimetype": "text/x-python",
   "name": "python",
   "nbconvert_exporter": "python",
   "pygments_lexer": "ipython3",
   "version": "3.7.4"
  }
 },
 "nbformat": 4,
 "nbformat_minor": 2
}
