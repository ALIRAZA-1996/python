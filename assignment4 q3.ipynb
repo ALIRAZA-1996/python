{
 "cells": [
  {
   "cell_type": "code",
   "execution_count": 1,
   "metadata": {},
   "outputs": [
    {
     "name": "stdout",
     "output_type": "stream",
     "text": [
      "Welcome To Nuplex Movie Theater\n",
      "Enter the no. of Person : 3\n",
      "Enter The Age Of Person: 5\n",
      "Your Ticket price will be 10$\n",
      "Enter The Age Of Person: 2\n",
      "Your Ticket is Free! Enjoy Your Movie\n",
      "Enter The Age Of Person: 45\n",
      "Your Ticket is Free! Enjoy Your Movie\n",
      "Total Amount =  10  $ Enjoy Your Movie\n"
     ]
    }
   ],
   "source": [
    "print(\"Welcome To Nuplex Movie Theater\")\n",
    "persons = int(input(\"Enter the no. of Person : \"))\n",
    "\n",
    "total_price = 0\n",
    "\n",
    "for i in range(1,persons+1):\n",
    "    age = int(input(\"Enter The Age Of Person: \"))\n",
    "    if age <= 3: \n",
    "         print(\"Your Ticket is Free! Enjoy Your Movie\")\n",
    "    elif age>=45:\n",
    "        print(\"Your Ticket is Free! Enjoy Your Movie\")\n",
    "    elif age <= 12:\n",
    "        print(\"Your Ticket price will be 10$\")\n",
    "        total_price +=10\n",
    "    else:\n",
    "        print(\"Your Ticket price will be 15$\")\n",
    "        total_price +=15\n",
    "\n",
    "print(\"Total Amount = \",total_price,\" $ Enjoy Your Movie\") "
   ]
  },
  {
   "cell_type": "code",
   "execution_count": null,
   "metadata": {},
   "outputs": [],
   "source": []
  }
 ],
 "metadata": {
  "kernelspec": {
   "display_name": "Python 3",
   "language": "python",
   "name": "python3"
  },
  "language_info": {
   "codemirror_mode": {
    "name": "ipython",
    "version": 3
   },
   "file_extension": ".py",
   "mimetype": "text/x-python",
   "name": "python",
   "nbconvert_exporter": "python",
   "pygments_lexer": "ipython3",
   "version": "3.7.4"
  }
 },
 "nbformat": 4,
 "nbformat_minor": 2
}
